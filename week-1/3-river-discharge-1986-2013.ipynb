{
 "cells": [
  {
   "cell_type": "markdown",
   "metadata": {},
   "source": [
    "# Analysing River Discharge in Boulder Creek 1986-2013"
   ]
  },
  {
   "cell_type": "markdown",
   "metadata": {},
   "source": [
    "**Aims:** \n",
    "* To compare daily average river discharge between the calendar months. \n",
    "* To determine monthly average river discharge of Boulder Creek between 1986 and 2013."
   ]
  },
  {
   "cell_type": "markdown",
   "metadata": {},
   "source": [
    "First import the python packages that will be used in this notebook.\n",
    "\n"
   ]
  },
  {
   "cell_type": "code",
   "execution_count": 1,
   "metadata": {},
   "outputs": [],
   "source": [
    "import numpy as np\n",
    "import pandas as pd\n",
    "import matplotlib.pyplot as plt\n",
    "import seaborn as sns\n",
    "\n",
    "from scipy.stats import zscore, norm\n",
    "\n",
    "import scipy.stats\n",
    "\n",
    "%matplotlib inline"
   ]
  },
  {
   "cell_type": "markdown",
   "metadata": {},
   "source": [
    "Read the csv file containing the data."
   ]
  },
  {
   "cell_type": "code",
   "execution_count": 2,
   "metadata": {},
   "outputs": [],
   "source": [
    "df = pd.read_csv('../data/discharge/06730200-discharge-daily-1986-2013.csv')"
   ]
  },
  {
   "cell_type": "markdown",
   "metadata": {},
   "source": [
    "Check the initial contents of the data."
   ]
  },
  {
   "cell_type": "code",
   "execution_count": 3,
   "metadata": {
    "scrolled": true
   },
   "outputs": [
    {
     "data": {
      "text/html": [
       "<div>\n",
       "<style scoped>\n",
       "    .dataframe tbody tr th:only-of-type {\n",
       "        vertical-align: middle;\n",
       "    }\n",
       "\n",
       "    .dataframe tbody tr th {\n",
       "        vertical-align: top;\n",
       "    }\n",
       "\n",
       "    .dataframe thead th {\n",
       "        text-align: right;\n",
       "    }\n",
       "</style>\n",
       "<table border=\"1\" class=\"dataframe\">\n",
       "  <thead>\n",
       "    <tr style=\"text-align: right;\">\n",
       "      <th></th>\n",
       "      <th>agency_cd</th>\n",
       "      <th>site_no</th>\n",
       "      <th>datetime</th>\n",
       "      <th>disValue</th>\n",
       "      <th>qualCode</th>\n",
       "    </tr>\n",
       "  </thead>\n",
       "  <tbody>\n",
       "    <tr>\n",
       "      <th>0</th>\n",
       "      <td>USGS</td>\n",
       "      <td>6730200</td>\n",
       "      <td>10/1/86</td>\n",
       "      <td>30.0</td>\n",
       "      <td>A</td>\n",
       "    </tr>\n",
       "    <tr>\n",
       "      <th>1</th>\n",
       "      <td>USGS</td>\n",
       "      <td>6730200</td>\n",
       "      <td>10/2/86</td>\n",
       "      <td>30.0</td>\n",
       "      <td>A</td>\n",
       "    </tr>\n",
       "    <tr>\n",
       "      <th>2</th>\n",
       "      <td>USGS</td>\n",
       "      <td>6730200</td>\n",
       "      <td>10/3/86</td>\n",
       "      <td>30.0</td>\n",
       "      <td>A</td>\n",
       "    </tr>\n",
       "    <tr>\n",
       "      <th>3</th>\n",
       "      <td>USGS</td>\n",
       "      <td>6730200</td>\n",
       "      <td>10/4/86</td>\n",
       "      <td>30.0</td>\n",
       "      <td>A</td>\n",
       "    </tr>\n",
       "    <tr>\n",
       "      <th>4</th>\n",
       "      <td>USGS</td>\n",
       "      <td>6730200</td>\n",
       "      <td>10/5/86</td>\n",
       "      <td>30.0</td>\n",
       "      <td>A</td>\n",
       "    </tr>\n",
       "  </tbody>\n",
       "</table>\n",
       "</div>"
      ],
      "text/plain": [
       "  agency_cd  site_no datetime  disValue qualCode\n",
       "0      USGS  6730200  10/1/86      30.0        A\n",
       "1      USGS  6730200  10/2/86      30.0        A\n",
       "2      USGS  6730200  10/3/86      30.0        A\n",
       "3      USGS  6730200  10/4/86      30.0        A\n",
       "4      USGS  6730200  10/5/86      30.0        A"
      ]
     },
     "execution_count": 3,
     "metadata": {},
     "output_type": "execute_result"
    }
   ],
   "source": [
    " df.head()"
   ]
  },
  {
   "cell_type": "markdown",
   "metadata": {},
   "source": [
    "Check what size the dataframe is. "
   ]
  },
  {
   "cell_type": "code",
   "execution_count": 4,
   "metadata": {},
   "outputs": [
    {
     "data": {
      "text/plain": [
       "(9954, 5)"
      ]
     },
     "execution_count": 4,
     "metadata": {},
     "output_type": "execute_result"
    }
   ],
   "source": [
    "df.shape"
   ]
  },
  {
   "cell_type": "markdown",
   "metadata": {},
   "source": [
    "The columns `datetime` and `disValue` obviously will have different values, but what about the other columns?"
   ]
  },
  {
   "cell_type": "markdown",
   "metadata": {},
   "source": [
    "Explore the contents of each of the columns:"
   ]
  },
  {
   "cell_type": "code",
   "execution_count": 5,
   "metadata": {},
   "outputs": [
    {
     "name": "stdout",
     "output_type": "stream",
     "text": [
      "Column agency_cd has unique value(s) ['USGS']\n",
      "Column site_no has unique value(s) [6730200]\n",
      "Column qualCode has unique value(s) ['A' 'A:e']\n"
     ]
    }
   ],
   "source": [
    "for column in ['agency_cd', 'site_no', 'qualCode']:\n",
    "    print('Column {} has unique value(s) {}'.format(column, df[column].unique()))"
   ]
  },
  {
   "cell_type": "markdown",
   "metadata": {},
   "source": [
    "In this analysis, the columns above will be ignored."
   ]
  },
  {
   "cell_type": "code",
   "execution_count": 6,
   "metadata": {},
   "outputs": [],
   "source": [
    "df = df[['datetime', 'disValue']]"
   ]
  },
  {
   "cell_type": "markdown",
   "metadata": {},
   "source": [
    "Check to see if there are any null values in the dataframe."
   ]
  },
  {
   "cell_type": "code",
   "execution_count": 7,
   "metadata": {},
   "outputs": [
    {
     "data": {
      "text/plain": [
       "datetime    0\n",
       "disValue    0\n",
       "dtype: int64"
      ]
     },
     "execution_count": 7,
     "metadata": {},
     "output_type": "execute_result"
    }
   ],
   "source": [
    "df.isnull().sum()"
   ]
  },
  {
   "cell_type": "markdown",
   "metadata": {},
   "source": [
    "Parse the `DATE` column of the dataframe."
   ]
  },
  {
   "cell_type": "code",
   "execution_count": 8,
   "metadata": {},
   "outputs": [],
   "source": [
    "df['datetime'] = pd.to_datetime(df['datetime'])"
   ]
  },
  {
   "cell_type": "markdown",
   "metadata": {},
   "source": [
    "Set the index of the dataframe to the `'datetime'` column."
   ]
  },
  {
   "cell_type": "code",
   "execution_count": 9,
   "metadata": {},
   "outputs": [],
   "source": [
    "df.set_index('datetime', inplace=True)"
   ]
  },
  {
   "cell_type": "markdown",
   "metadata": {},
   "source": [
    "Display the summary statistics of the river discharge."
   ]
  },
  {
   "cell_type": "code",
   "execution_count": 10,
   "metadata": {},
   "outputs": [
    {
     "data": {
      "text/plain": [
       "count    9954.000000\n",
       "mean       93.712645\n",
       "std       143.942426\n",
       "min         0.870000\n",
       "25%        32.000000\n",
       "50%        54.000000\n",
       "75%       108.000000\n",
       "max      4770.000000\n",
       "Name: disValue, dtype: float64"
      ]
     },
     "execution_count": 10,
     "metadata": {},
     "output_type": "execute_result"
    }
   ],
   "source": [
    "df['disValue'].describe()"
   ]
  },
  {
   "cell_type": "markdown",
   "metadata": {},
   "source": [
    "Create a box plot of river discharge values, ignoring outliers."
   ]
  },
  {
   "cell_type": "code",
   "execution_count": 11,
   "metadata": {},
   "outputs": [
    {
     "data": {
      "image/png": "[encoded data removed]",
      "text/plain": [
       "<Figure size 432x288 with 1 Axes>"
      ]
     },
     "metadata": {
      "needs_background": "light"
     },
     "output_type": "display_data"
    }
   ],
   "source": [
    "sns.boxplot(df['disValue'], showfliers=False)\n",
    "\n",
    "plt.xlabel('River Discharge (cubic feet per second)')\n",
    "plt.title('Box plot of River Discharge between October 1986 - December 2013 \\n (Outliers Ignored)');"
   ]
  },
  {
   "cell_type": "markdown",
   "metadata": {},
   "source": [
    "Plot a histogram of the daily discharge values."
   ]
  },
  {
   "cell_type": "code",
   "execution_count": 12,
   "metadata": {},
   "outputs": [
    {
     "name": "stderr",
     "output_type": "stream",
     "text": [
      "/home/david/anaconda3/lib/python3.7/site-packages/scipy/stats/stats.py:1713: FutureWarning: Using a non-tuple sequence for multidimensional indexing is deprecated; use `arr[tuple(seq)]` instead of `arr[seq]`. In the future this will be interpreted as an array index, `arr[np.array(seq)]`, which will result either in an error or a different result.\n",
      "  return np.add.reduce(sorted[indexer] * weights, axis=axis) / sumval\n"
     ]
    },
    {
     "data": {
      "image/png": "[encoded data removed]",
      "text/plain": [
       "<Figure size 864x432 with 1 Axes>"
      ]
     },
     "metadata": {
      "needs_background": "light"
     },
     "output_type": "display_data"
    }
   ],
   "source": [
    "plt.figure(figsize=(12, 6));\n",
    "sns.distplot(df['disValue'], kde=False)\n",
    "plt.xlabel('River Discharge (cubic feet per second)')\n",
    "plt.ylabel('Frequency')\n",
    "plt.title('Histogram of River Discharge between October 1986 - December 2013');"
   ]
  },
  {
   "cell_type": "markdown",
   "metadata": {},
   "source": [
    "The plot above is too dominated by outliers. As such, a plot of river discharge can created considering only values that are **below 3 standard deviation** from the mean."
   ]
  },
  {
   "cell_type": "code",
   "execution_count": 13,
   "metadata": {},
   "outputs": [
    {
     "data": {
      "image/png": "[encoded data removed]",
      "text/plain": [
       "<Figure size 864x432 with 1 Axes>"
      ]
     },
     "metadata": {
      "needs_background": "light"
     },
     "output_type": "display_data"
    }
   ],
   "source": [
    "plt.figure(figsize=(12, 6));\n",
    "sns.distplot(df[zscore(df['disValue']) < 3], kde=False)\n",
    "plt.xlabel('River Discharge (cubic feet per second)')\n",
    "plt.ylabel('Frequency')\n",
    "plt.title('Histogram of River Discharge between October 1986 - December 2013 \\n (Outliers Ignored)');"
   ]
  },
  {
   "cell_type": "markdown",
   "metadata": {},
   "source": [
    "A plot of river discharge can created considering only values that are **above 3 standard deviation** from the mean. This will help to visualise the outliers."
   ]
  },
  {
   "cell_type": "code",
   "execution_count": 14,
   "metadata": {},
   "outputs": [
    {
     "data": {
      "image/png": "[encoded data removed]",
      "text/plain": [
       "<Figure size 864x432 with 1 Axes>"
      ]
     },
     "metadata": {
      "needs_background": "light"
     },
     "output_type": "display_data"
    }
   ],
   "source": [
    "river_discharge_outliers = df[zscore(df['disValue']) > 3]\n",
    "\n",
    "plt.figure(figsize=(12, 6));\n",
    "sns.distplot(river_discharge_outliers, kde=False)\n",
    "\n",
    "plt.xlabel('River Discharge (cubic feet per second)')\n",
    "plt.ylabel('Frequency')\n",
    "plt.title('Histogram of River Discharge between October 1986 - December 2013');"
   ]
  },
  {
   "cell_type": "markdown",
   "metadata": {},
   "source": [
    "The percentage of river discharge recordings that lie above three standard deviations can be calculated:"
   ]
  },
  {
   "cell_type": "code",
   "execution_count": 15,
   "metadata": {
    "scrolled": true
   },
   "outputs": [
    {
     "name": "stdout",
     "output_type": "stream",
     "text": [
      "The percentage of recordings that are above three standard deviations from the mean is: 1.52%\n"
     ]
    }
   ],
   "source": [
    "percentage_outliers = (len(river_discharge_outliers)/len(df))*100\n",
    "\n",
    "print('The percentage of recordings that are above three standard deviations from the mean is: {:.2f}%'.format(percentage_outliers))"
   ]
  },
  {
   "cell_type": "markdown",
   "metadata": {},
   "source": [
    "The most significant river discharge events can be determined. This can be done by grouping the outliers into Year-Month format, determining the mean in each group, then sorting them from high to low."
   ]
  },
  {
   "cell_type": "code",
   "execution_count": 16,
   "metadata": {},
   "outputs": [
    {
     "data": {
      "text/html": [
       "<div>\n",
       "<style scoped>\n",
       "    .dataframe tbody tr th:only-of-type {\n",
       "        vertical-align: middle;\n",
       "    }\n",
       "\n",
       "    .dataframe tbody tr th {\n",
       "        vertical-align: top;\n",
       "    }\n",
       "\n",
       "    .dataframe thead th {\n",
       "        text-align: right;\n",
       "    }\n",
       "</style>\n",
       "<table border=\"1\" class=\"dataframe\">\n",
       "  <thead>\n",
       "    <tr style=\"text-align: right;\">\n",
       "      <th></th>\n",
       "      <th>disValue</th>\n",
       "    </tr>\n",
       "    <tr>\n",
       "      <th>datetime</th>\n",
       "      <th></th>\n",
       "    </tr>\n",
       "  </thead>\n",
       "  <tbody>\n",
       "    <tr>\n",
       "      <th>2013-09</th>\n",
       "      <td>1624.714286</td>\n",
       "    </tr>\n",
       "    <tr>\n",
       "      <th>2003-05</th>\n",
       "      <td>1273.750000</td>\n",
       "    </tr>\n",
       "    <tr>\n",
       "      <th>1997-06</th>\n",
       "      <td>1057.272727</td>\n",
       "    </tr>\n",
       "    <tr>\n",
       "      <th>2003-06</th>\n",
       "      <td>975.333333</td>\n",
       "    </tr>\n",
       "    <tr>\n",
       "      <th>1995-06</th>\n",
       "      <td>945.520000</td>\n",
       "    </tr>\n",
       "    <tr>\n",
       "      <th>1999-08</th>\n",
       "      <td>887.000000</td>\n",
       "    </tr>\n",
       "    <tr>\n",
       "      <th>1995-05</th>\n",
       "      <td>866.818182</td>\n",
       "    </tr>\n",
       "    <tr>\n",
       "      <th>1993-06</th>\n",
       "      <td>806.000000</td>\n",
       "    </tr>\n",
       "    <tr>\n",
       "      <th>2011-07</th>\n",
       "      <td>750.812500</td>\n",
       "    </tr>\n",
       "    <tr>\n",
       "      <th>2010-06</th>\n",
       "      <td>720.500000</td>\n",
       "    </tr>\n",
       "    <tr>\n",
       "      <th>1987-06</th>\n",
       "      <td>712.500000</td>\n",
       "    </tr>\n",
       "    <tr>\n",
       "      <th>1999-04</th>\n",
       "      <td>682.000000</td>\n",
       "    </tr>\n",
       "    <tr>\n",
       "      <th>1995-07</th>\n",
       "      <td>672.071429</td>\n",
       "    </tr>\n",
       "    <tr>\n",
       "      <th>1991-06</th>\n",
       "      <td>657.500000</td>\n",
       "    </tr>\n",
       "    <tr>\n",
       "      <th>2005-05</th>\n",
       "      <td>650.800000</td>\n",
       "    </tr>\n",
       "    <tr>\n",
       "      <th>1996-05</th>\n",
       "      <td>642.333333</td>\n",
       "    </tr>\n",
       "    <tr>\n",
       "      <th>1996-06</th>\n",
       "      <td>631.333333</td>\n",
       "    </tr>\n",
       "    <tr>\n",
       "      <th>1999-05</th>\n",
       "      <td>614.000000</td>\n",
       "    </tr>\n",
       "    <tr>\n",
       "      <th>2013-06</th>\n",
       "      <td>596.666667</td>\n",
       "    </tr>\n",
       "    <tr>\n",
       "      <th>2009-06</th>\n",
       "      <td>595.000000</td>\n",
       "    </tr>\n",
       "    <tr>\n",
       "      <th>2011-06</th>\n",
       "      <td>587.666667</td>\n",
       "    </tr>\n",
       "    <tr>\n",
       "      <th>1988-05</th>\n",
       "      <td>564.000000</td>\n",
       "    </tr>\n",
       "    <tr>\n",
       "      <th>2006-07</th>\n",
       "      <td>562.000000</td>\n",
       "    </tr>\n",
       "    <tr>\n",
       "      <th>1999-06</th>\n",
       "      <td>547.750000</td>\n",
       "    </tr>\n",
       "  </tbody>\n",
       "</table>\n",
       "</div>"
      ],
      "text/plain": [
       "             disValue\n",
       "datetime             \n",
       "2013-09   1624.714286\n",
       "2003-05   1273.750000\n",
       "1997-06   1057.272727\n",
       "2003-06    975.333333\n",
       "1995-06    945.520000\n",
       "1999-08    887.000000\n",
       "1995-05    866.818182\n",
       "1993-06    806.000000\n",
       "2011-07    750.812500\n",
       "2010-06    720.500000\n",
       "1987-06    712.500000\n",
       "1999-04    682.000000\n",
       "1995-07    672.071429\n",
       "1991-06    657.500000\n",
       "2005-05    650.800000\n",
       "1996-05    642.333333\n",
       "1996-06    631.333333\n",
       "1999-05    614.000000\n",
       "2013-06    596.666667\n",
       "2009-06    595.000000\n",
       "2011-06    587.666667\n",
       "1988-05    564.000000\n",
       "2006-07    562.000000\n",
       "1999-06    547.750000"
      ]
     },
     "execution_count": 16,
     "metadata": {},
     "output_type": "execute_result"
    }
   ],
   "source": [
    "river_discharge_outliers.to_period('M').groupby('datetime').mean().sort_values(by='disValue', ascending=False)"
   ]
  },
  {
   "cell_type": "markdown",
   "metadata": {},
   "source": [
    "How does the daily average river discharge vary between the months of the year? To answer this question, a column called MONTH that explicitly records the month can be created."
   ]
  },
  {
   "cell_type": "code",
   "execution_count": 17,
   "metadata": {},
   "outputs": [],
   "source": [
    "df['MONTH'] = df.index.month"
   ]
  },
  {
   "cell_type": "code",
   "execution_count": 18,
   "metadata": {},
   "outputs": [
    {
     "data": {
      "image/png": "[encoded data removed]",
      "text/plain": [
       "<Figure size 864x432 with 1 Axes>"
      ]
     },
     "metadata": {
      "needs_background": "light"
     },
     "output_type": "display_data"
    }
   ],
   "source": [
    "plt.figure(figsize=(12, 6));\n",
    "sns.boxplot(data=df, x='MONTH', y='disValue', showfliers=False)\n",
    "\n",
    "plt.xlabel('Calendar Month')\n",
    "plt.ylabel('River Discharge (cubic feet per second)')\n",
    "plt.title('Average Daily River Discharge By Month \\n (Outliers Ignored)');"
   ]
  },
  {
   "cell_type": "markdown",
   "metadata": {},
   "source": [
    "A new dataframe called `df_monthly` is created that resamples the river discharge by month and determines the mean of it. "
   ]
  },
  {
   "cell_type": "code",
   "execution_count": 19,
   "metadata": {},
   "outputs": [],
   "source": [
    "df_monthly = df.resample('M').mean()"
   ]
  },
  {
   "cell_type": "markdown",
   "metadata": {},
   "source": [
    "Use seaborn to plot the mean river discharge by month."
   ]
  },
  {
   "cell_type": "code",
   "execution_count": 20,
   "metadata": {},
   "outputs": [
    {
     "name": "stderr",
     "output_type": "stream",
     "text": [
      "/home/david/anaconda3/lib/python3.7/site-packages/pandas/plotting/_converter.py:129: FutureWarning: Using an implicitly registered datetime converter for a matplotlib plotting method. The converter was registered by pandas on import. Future versions of pandas will require you to explicitly register matplotlib converters.\n",
      "\n",
      "To register the converters:\n",
      "\t>>> from pandas.plotting import register_matplotlib_converters\n",
      "\t>>> register_matplotlib_converters()\n",
      "  warnings.warn(msg, FutureWarning)\n"
     ]
    },
    {
     "data": {
      "image/png": "[encoded data removed]",
      "text/plain": [
       "<Figure size 864x432 with 1 Axes>"
      ]
     },
     "metadata": {},
     "output_type": "display_data"
    }
   ],
   "source": [
    "# decrease linewidth\n",
    "sns.set(rc={\"lines.linewidth\": 0.5})\n",
    "\n",
    "# increase plot size\n",
    "plt.figure(figsize=(12, 6));\n",
    "\n",
    "sns.lineplot(data=df_monthly, legend=False)\n",
    "plt.xlabel('Year')\n",
    "plt.ylabel('River Discharge (cubic feet per second)')\n",
    "plt.title('Average Daily River Discharge in Month');"
   ]
  },
  {
   "cell_type": "markdown",
   "metadata": {},
   "source": [
    "As can be seen, the graph shows a lot of variability in the flow in the creek by month. One can see the sharp peak that occurred during the September 2013 flood.\n"
   ]
  }
 ],
 "metadata": {
  "kernelspec": {
   "display_name": "Python 3",
   "language": "python",
   "name": "python3"
  },
  "language_info": {
   "codemirror_mode": {
    "name": "ipython",
    "version": 3
   },
   "file_extension": ".py",
   "mimetype": "text/x-python",
   "name": "python",
   "nbconvert_exporter": "python",
   "pygments_lexer": "ipython3",
   "version": "3.7.1"
  }
 },
 "nbformat": 4,
 "nbformat_minor": 2
}
